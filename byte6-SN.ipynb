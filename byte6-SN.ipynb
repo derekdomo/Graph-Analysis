{
 "metadata": {
  "name": "",
  "signature": "sha256:b7bd00368b70da57c779ef3a9bc6b129d231ef7eaea387ed5467620aad6de765"
 },
 "nbformat": 3,
 "nbformat_minor": 0,
 "worksheets": [
  {
   "cells": [
    {
     "cell_type": "markdown",
     "metadata": {},
     "source": [
      "Byte 6 for Social Network Analysis\n",
      "================================="
     ]
    },
    {
     "cell_type": "markdown",
     "metadata": {},
     "source": [
      "This Byte has three parts:\n",
      "* Choose a graph data from http://snap.stanford.edu/data/index.html\n",
      "* Construct a graph using this dataset and apply K-Core algorithm. Then visualize it.\n",
      "* Check its power law properties. Then try other datasets and see whether it follows power law."
     ]
    },
    {
     "cell_type": "markdown",
     "metadata": {},
     "source": [
      "K-Core Algorithm Introduction:\n",
      "============\n",
      "* It is an approach of simplizing the graph by removing the edges that have small degrees.\n",
      "\n",
      "Algorithm:\n",
      "-------------\n",
      "1. Delete all the nodes and corresppoding edges that have degrees less than k\n",
      "2. Calculate the degrees of all the remaining nodes.\n",
      "3. If the degrees of all the nodes are larger than k or equal to k, return; Otherwise, repeat from step 1"
     ]
    },
    {
     "cell_type": "code",
     "collapsed": false,
     "input": [
      "import copy\n",
      "# open the file you have downloaded\n",
      "file = open(\"amazon.txt\")\n",
      "lines = file.readlines()\n",
      "node_pair = set()\n",
      "nodes = {}\n",
      "print len(lines)"
     ],
     "language": "python",
     "metadata": {},
     "outputs": [
      {
       "output_type": "stream",
       "stream": "stdout",
       "text": [
        "271570\n"
       ]
      }
     ],
     "prompt_number": 1
    },
    {
     "cell_type": "code",
     "collapsed": false,
     "input": [
      "# construct the edge\n",
      "# remember to change delimeter accroding to your file\n",
      "delimeter = \"\\t\"\n",
      "for line in lines:\n",
      "    stat = line.split(delimeter)\n",
      "    edge = (int(stat[0]),int(stat[1]))\n",
      "    node_pair.add(edge)\n",
      "    a = int(stat[0])\n",
      "    b = int(stat[1])\n",
      "    if a not in nodes:\n",
      "        nodes[a]=0\n",
      "    if b not in nodes:\n",
      "        nodes[b]=0\n",
      "    nodes[a]+=1\n",
      "    nodes[b]+=1"
     ],
     "language": "python",
     "metadata": {},
     "outputs": [],
     "prompt_number": 2
    },
    {
     "cell_type": "code",
     "collapsed": false,
     "input": [
      "# get the degrees of each node\n",
      "def get_degrees(n_pair):\n",
      "    n={}\n",
      "    for i,j in n_pair:\n",
      "        if i not in n:\n",
      "            n[i]=0\n",
      "        if j not in n:\n",
      "            n[j]=0\n",
      "        n[i]+=1\n",
      "        n[j]+=1\n",
      "    return n\n",
      "\n",
      "# delete a node\n",
      "def delete_node(n_pair, node):\n",
      "    new_pair = []\n",
      "    print \"# of node to be deleted\",len(node)\n",
      "    for i, j in n_pair:\n",
      "        if i not in node and j not in node:\n",
      "            new_pair.append((i,j))\n",
      "    return new_pair\n",
      "\n",
      "# kcore algorithm\n",
      "def kcore(edges, k):\n",
      "    n_pair = copy.deepcopy(edges)\n",
      "    n = get_degrees(n_pair)\n",
      "    s = sorted(n, key = n.get)\n",
      "    while 1:\n",
      "        if len(s)==0 or n[s[0]]>=k:\n",
      "            break\n",
      "        to_delete = set()\n",
      "        for i in s:\n",
      "            if n[i]<k:\n",
      "                to_delete.add(i)\n",
      "            else:\n",
      "                break\n",
      "        n_pair = delete_node(n_pair, to_delete)\n",
      "        print \"# of edges left:\",len(n_pair)\n",
      "        n = get_degrees(n_pair)\n",
      "        s = sorted(n, key = n.get)\n",
      "    return n_pair,s\n"
     ],
     "language": "python",
     "metadata": {},
     "outputs": [],
     "prompt_number": 3
    },
    {
     "cell_type": "code",
     "collapsed": false,
     "input": [
      "edges, node_set=kcore(node_pair, 3)"
     ],
     "language": "python",
     "metadata": {},
     "outputs": [
      {
       "output_type": "stream",
       "stream": "stdout",
       "text": [
        "# of node to be deleted 120692\n",
        "# of edges left:"
       ]
      },
      {
       "output_type": "stream",
       "stream": "stdout",
       "text": [
        " 9466\n",
        "# of node to be deleted 6774\n",
        "# of edges left: 3316\n",
        "# of node to be deleted 1045\n",
        "# of edges left: 1985\n",
        "# of node to be deleted 426\n",
        "# of edges left: 1393\n",
        "# of node to be deleted 205\n",
        "# of edges left: 1100\n",
        "# of node to be deleted 107\n",
        "# of edges left: 947\n",
        "# of node to be deleted 57\n",
        "# of edges left: 869\n",
        "# of node to be deleted"
       ]
      },
      {
       "output_type": "stream",
       "stream": "stdout",
       "text": [
        " 28\n",
        "# of edges left: 822\n",
        "# of node to be deleted 30\n",
        "# of edges left: 775\n",
        "# of node to be deleted 17\n",
        "# of edges left: 757\n",
        "# of node to be deleted 4\n",
        "# of edges left: 753\n",
        "# of node to be deleted 3\n",
        "# of edges left: 747\n",
        "# of node to be deleted 5\n",
        "# of edges left: 740\n",
        "# of node to be deleted 2\n",
        "# of edges left: 739\n"
       ]
      }
     ],
     "prompt_number": 4
    },
    {
     "cell_type": "markdown",
     "metadata": {},
     "source": [
      "Next, let's find if there exists clusters(connected components)\n",
      "-------------------------------------------------------"
     ]
    },
    {
     "cell_type": "code",
     "collapsed": false,
     "input": [
      "def build_neighborhood(n_pair, node):\n",
      "    neighbors = {}\n",
      "    count = 0\n",
      "    for i in node:\n",
      "        count+=1\n",
      "        neighbors[i]=set()\n",
      "        for edge in n_pair:\n",
      "            if i == edge[0]:\n",
      "                neighbors[i].add(edge[1])\n",
      "            if i == edge[1]:\n",
      "                neighbors[i].add(edge[0])\n",
      "    return neighbors\n",
      "\n",
      "def get_connected_components(n_pair, neighbors, node):\n",
      "    result = []\n",
      "    node = set(node)\n",
      "    visited = set()\n",
      "    while node:\n",
      "        n = node.pop()\n",
      "        component = set()\n",
      "        queue = [n]\n",
      "        while queue:\n",
      "            n = queue.pop(0)\n",
      "            visited.add(n)\n",
      "            component.add(n)\n",
      "            neighbor = neighbors[n]\n",
      "            for i in neighbor:\n",
      "                if i not in visited:\n",
      "                    node.discard(i)\n",
      "                    queue.append(i)\n",
      "        result.append(component)\n",
      "    return result"
     ],
     "language": "python",
     "metadata": {},
     "outputs": [],
     "prompt_number": 5
    },
    {
     "cell_type": "code",
     "collapsed": false,
     "input": [
      "neighbors = build_neighborhood(edges, node_set)\n",
      "ret = get_connected_components(edges, neighbors, node_set)\n",
      "print \"# of connected components\",len(ret)"
     ],
     "language": "python",
     "metadata": {},
     "outputs": [
      {
       "output_type": "stream",
       "stream": "stdout",
       "text": [
        "# of connected components 64\n"
       ]
      }
     ],
     "prompt_number": 6
    },
    {
     "cell_type": "markdown",
     "metadata": {},
     "source": [
      "Visualization\n",
      "------------\n",
      "You may need to install the library \"networkx\". It is a very great tool to help you analyze graph data. You can combine it with Dephi to visualize and analyze social network. Here we use D3 library to visualize the graph data after running k-core algorithm. You can use other different fancy tools or graphs to visualize it."
     ]
    },
    {
     "cell_type": "code",
     "collapsed": false,
     "input": [
      "import networkx as nx\n",
      "from networkx.readwrite import json_graph\n",
      "import json\n",
      "\n",
      "G=nx.Graph()\n",
      "for edge in edges:\n",
      "    G.add_edge(edge[0],edge[1])\n",
      "\n",
      "nld = json_graph.node_link_data(G)\n",
      "json.dump(nld, open('force.json','w'))"
     ],
     "language": "python",
     "metadata": {},
     "outputs": [],
     "prompt_number": 7
    },
    {
     "cell_type": "code",
     "collapsed": false,
     "input": [
      "from IPython.display import IFrame\n",
      "\n",
      "# IPython Notebook can serve files and display them into\n",
      "# inline frames. Prepend the path with the 'files' prefix.\n",
      "\n",
      "viz_file = 'force.html'\n",
      "IFrame(viz_file, width=700, height=550)"
     ],
     "language": "python",
     "metadata": {},
     "outputs": [
      {
       "html": [
        "\n",
        "        <iframe\n",
        "            width=\"700\"\n",
        "            height=550\"\n",
        "            src=\"force.html\"\n",
        "            frameborder=\"0\"\n",
        "            allowfullscreen\n",
        "        ></iframe>\n",
        "        "
       ],
       "metadata": {},
       "output_type": "pyout",
       "prompt_number": 8,
       "text": [
        "<IPython.lib.display.IFrame at 0x1134ec390>"
       ]
      }
     ],
     "prompt_number": 8
    },
    {
     "cell_type": "markdown",
     "metadata": {},
     "source": [
      "Power Law Property\n",
      "---------------------\n",
      "* You can download some other undirected datasets from SNAP and check whether it follows the power law properties.\n",
      "* You can also modify this code to make it able to generate indegree and outdegree loglog plot of directed graphs. Compare their differences and try to explain it."
     ]
    },
    {
     "cell_type": "code",
     "collapsed": false,
     "input": [
      "# code to analyze undirected graphs\n",
      "%matplotlib inline\n",
      "from pylab import *\n",
      "import matplotlib.pyplot as plt\n",
      "nodes = get_degrees(node_pair)\n",
      "v = nodes.values()\n",
      "noRep = list(set(v))\n",
      "noRep.sort()\n",
      "x = []\n",
      "y = []\n",
      "for count in noRep:\n",
      "    f = v.count(count)\n",
      "    x.append(count)\n",
      "    y.append(f)\n",
      "figure()\n",
      "loglog(x, y, '*')\n",
      "xlabel('x')\n",
      "ylabel('y')\n",
      "title('power law plot')\n",
      "show()"
     ],
     "language": "python",
     "metadata": {},
     "outputs": [
      {
       "metadata": {},
       "output_type": "display_data",
       "png": "[encoded data removed]",
       "text": [
        "<matplotlib.figure.Figure at 0x118cdcc90>"
       ]
      }
     ],
     "prompt_number": 9
    },
    {
     "cell_type": "code",
     "collapsed": false,
     "input": [
      "# code to analyze directed graphs\n",
      "file = open(\"twitter.txt\")\n",
      "lines = file.readlines()\n",
      "node_pair = set()\n",
      "nodes_indegree = {}\n",
      "nodes_outdegree = {}\n",
      "# construct the edge\n",
      "# remember to change delimeter accroding to your file\n",
      "delimeter = \" \"\n",
      "for line in lines:\n",
      "    stat = line.split(delimeter)\n",
      "    edge = (int(stat[0]),int(stat[1]))\n",
      "    node_pair.add(edge)\n",
      "    a = int(stat[0])\n",
      "    b = int(stat[1])\n",
      "    if a not in nodes_indegree:\n",
      "        nodes_indegree[a]=0\n",
      "    if b not in nodes_outdegree:\n",
      "        nodes_outdegree[b]=0\n",
      "    nodes_indegree[a]+=1\n",
      "    nodes_outdegree[b]+=1\n",
      "\n",
      "%matplotlib inline\n",
      "from pylab import *\n",
      "import matplotlib.pyplot as plt\n",
      "\n",
      "v_indegree = nodes_indegree.values()\n",
      "v_outdegree = nodes_outdegree.values()\n",
      "noRep_indegree = list(set(v_indegree))\n",
      "noRep_outdegree = list(set(v_outdegree))\n",
      "noRep_indegree.sort()\n",
      "noRep_outdegree.sort()\n",
      "x_indegree = []\n",
      "y_indegree = []\n",
      "x_outdegree = []\n",
      "y_outdegree = []\n",
      "for count in noRep_indegree:\n",
      "    f = v_indegree.count(count)\n",
      "    x_indegree.append(count)\n",
      "    y_indegree.append(f)\n",
      "for count in noRep_outdegree:\n",
      "    f = v_outdegree.count(count)\n",
      "    x_outdegree.append(count)\n",
      "    y_outdegree.append(f)\n",
      "figure()\n",
      "loglog(x_indegree, y_indegree, '*')\n",
      "xlabel('x')\n",
      "ylabel('y')\n",
      "title('indegree distribution')\n",
      "show()   \n",
      "figure()\n",
      "loglog(x_outdegree, y_outdegree, '*')\n",
      "xlabel('x')\n",
      "ylabel('y')\n",
      "title('outdegree distribution')\n",
      "show()\n",
      "\n"
     ],
     "language": "python",
     "metadata": {},
     "outputs": [
      {
       "metadata": {},
       "output_type": "display_data",
       "png": "[encoded data removed]",
       "text": [
        "<matplotlib.figure.Figure at 0x118cdcc10>"
       ]
      },
      {
       "metadata": {},
       "output_type": "display_data",
       "png": "[encoded data removed]",
       "text": [
        "<matplotlib.figure.Figure at 0x1304a1e50>"
       ]
      }
     ],
     "prompt_number": 10
    }
   ],
   "metadata": {}
  }
 ]
}